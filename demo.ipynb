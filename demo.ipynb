{
 "cells": [
  {
   "cell_type": "code",
   "execution_count": 2,
   "metadata": {},
   "outputs": [
    {
     "name": "stdout",
     "output_type": "stream",
     "text": [
      "查询结果（稀疏表示）：\n",
      "Indices: tensor([[0],\n",
      "        [0],\n",
      "        [1],\n",
      "        [0]])\n",
      "Values: tensor([1.])\n"
     ]
    }
   ],
   "source": [
    "import torch\n",
    "\n",
    "# (实体1, 关系, 实体2, 时间戳)\n",
    "triples_time = [\n",
    "    (0, 0, 1, 0),  # 实体0 和 实体1 在时间0有关系0\n",
    "    (1, 2, 3, 1),  # 实体1 和 实体3 在时间1有关系2\n",
    "    (3, 1, 4, 2),  # 实体3 和 实体4 在时间2有关系1\n",
    "    (4, 0, 2, 3)   # 实体4 和 实体2 在时间3有关系0\n",
    "]\n",
    "\n",
    "# 将上面的三元组转换为张量\n",
    "indices = torch.LongTensor(triples_time).t()\n",
    "\n",
    "# 值都设置为1，表示存在关系\n",
    "values = torch.FloatTensor([1, 1, 1, 1])\n",
    "\n",
    "# 创建稀疏张量\n",
    "# 张量的形状是(5, 3, 5, 4)，对应于（实体数量, 关系数量, 实体数量, 时间数量）\n",
    "sparse_tensor = torch.sparse.FloatTensor(indices, values, torch.Size([5, 3, 5, 4])).coalesce()\n",
    "\n",
    "# 查询：找出与实体0在时间0有关系的所有实体\n",
    "# 为此，我们检查稀疏张量的indices\n",
    "query_indices = sparse_tensor.indices()\n",
    "query_values = sparse_tensor.values()\n",
    "\n",
    "# 找出与实体0在时间0有关系的三元组\n",
    "query_mask = (query_indices[0, :] == 0) & (query_indices[3, :] == 0)\n",
    "\n",
    "# 提取这些三元组\n",
    "result_indices = query_indices[:, query_mask]\n",
    "result_values = query_values[query_mask]\n",
    "\n",
    "print(\"查询结果（稀疏表示）：\")\n",
    "print(\"Indices:\", result_indices)\n",
    "print(\"Values:\", result_values)\n"
   ]
  },
  {
   "cell_type": "code",
   "execution_count": null,
   "metadata": {},
   "outputs": [],
   "source": []
  }
 ],
 "metadata": {
  "kernelspec": {
   "display_name": "grl",
   "language": "python",
   "name": "python3"
  },
  "language_info": {
   "codemirror_mode": {
    "name": "ipython",
    "version": 3
   },
   "file_extension": ".py",
   "mimetype": "text/x-python",
   "name": "python",
   "nbconvert_exporter": "python",
   "pygments_lexer": "ipython3",
   "version": "3.11.4"
  },
  "orig_nbformat": 4
 },
 "nbformat": 4,
 "nbformat_minor": 2
}
